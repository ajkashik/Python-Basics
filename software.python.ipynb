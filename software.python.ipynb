{
 "cells": [
  {
   "cell_type": "code",
   "execution_count": 60,
   "metadata": {},
   "outputs": [
    {
     "name": "stdout",
     "output_type": "stream",
     "text": [
      "malika\n"
     ]
    }
   ],
   "source": [
    "def love(name):\n",
    "    print(name)\n",
    "love(\"malika\")"
   ]
  },
  {
   "cell_type": "code",
   "execution_count": 61,
   "metadata": {},
   "outputs": [
    {
     "name": "stdout",
     "output_type": "stream",
     "text": [
      "Tonni\n"
     ]
    }
   ],
   "source": [
    "def love():\n",
    "    print(\"Tonni\")\n",
    "love()"
   ]
  },
  {
   "cell_type": "code",
   "execution_count": 62,
   "metadata": {},
   "outputs": [
    {
     "name": "stdout",
     "output_type": "stream",
     "text": [
      "mallika\n"
     ]
    }
   ],
   "source": [
    "def love(name=\"mallika\"):\n",
    "    print(name)\n",
    "love()"
   ]
  },
  {
   "cell_type": "code",
   "execution_count": 63,
   "metadata": {},
   "outputs": [
    {
     "name": "stdout",
     "output_type": "stream",
     "text": [
      "Negative\n"
     ]
    }
   ],
   "source": [
    "def calculation(x):\n",
    "    if x<0:\n",
    "        return \"Negative\"\n",
    "    else:\n",
    "        return \"positive\"\n",
    "print(calculation(-5))"
   ]
  },
  {
   "cell_type": "code",
   "execution_count": 64,
   "metadata": {},
   "outputs": [
    {
     "name": "stdout",
     "output_type": "stream",
     "text": [
      "pure love\n"
     ]
    }
   ],
   "source": [
    "def love(x):\n",
    "    if x==\"tonni\":\n",
    "        return \"pure love\"\n",
    "    else:\n",
    "        return \"fake love\"\n",
    "print(love(\"tonni\"))"
   ]
  },
  {
   "cell_type": "code",
   "execution_count": 65,
   "metadata": {},
   "outputs": [
    {
     "name": "stdout",
     "output_type": "stream",
     "text": [
      "None\n"
     ]
    }
   ],
   "source": [
    "def fun():\n",
    "    pass\n",
    "print(fun())"
   ]
  },
  {
   "cell_type": "code",
   "execution_count": 66,
   "metadata": {},
   "outputs": [
    {
     "name": "stdout",
     "output_type": "stream",
     "text": [
      "1\n",
      "3\n",
      "5\n",
      "2\n",
      "4\n",
      "6\n"
     ]
    }
   ],
   "source": [
    "#define a function with a arbiraty number of arguments-(*arg)\n",
    "def func(*m):\n",
    "    for e in m:\n",
    "        print(e)\n",
    "func(1,3,5)\n",
    "list_m=[2,4,6]\n",
    "func(*list_m)"
   ]
  },
  {
   "cell_type": "code",
   "execution_count": 67,
   "metadata": {},
   "outputs": [
    {
     "name": "stdout",
     "output_type": "stream",
     "text": [
      "tonni\n",
      "mallika\n",
      "bithi\n",
      "mallika\n",
      "bithi\n",
      "tonni\n"
     ]
    }
   ],
   "source": [
    "def love(*name):\n",
    "    for e in name:\n",
    "        print(e)\n",
    "func(\"tonni\",\"mallika\",\"bithi\")\n",
    "list_name=[\"mallika\",\"bithi\",\"tonni\"]\n",
    "func(*list_name)"
   ]
  },
  {
   "cell_type": "code",
   "execution_count": 73,
   "metadata": {
    "slideshow": {
     "slide_type": "-"
    }
   },
   "outputs": [
    {
     "name": "stdout",
     "output_type": "stream",
     "text": [
      "tonni 1\n",
      "mallika 2\n",
      "bithi 3\n",
      "tonni 3\n",
      "mallika 2\n",
      "bithi 1\n"
     ]
    }
   ],
   "source": [
    "def love(**name):\n",
    "    for e,i in name.items():\n",
    "        print(e,i)\n",
    "love(tonni=1,mallika=2,bithi=3)\n",
    "list_name={'tonni':3,'mallika':2,'bithi':1}\n",
    "func(**list_name)"
   ]
  },
  {
   "cell_type": "code",
   "execution_count": 74,
   "metadata": {},
   "outputs": [
    {
     "name": "stdout",
     "output_type": "stream",
     "text": [
      "tom 1\n",
      "pol 2\n",
      "jery 3\n",
      "tonni 1\n",
      "mallika 2\n",
      "bithi 3\n"
     ]
    }
   ],
   "source": [
    "#arbitary number of keyword argument\n",
    "def func(**arg):\n",
    "    for num,val in arg.items():\n",
    "        print(num,val)\n",
    "func(tom=1,pol=2,jery=3)\n",
    "func_arg={'tonni':1,'mallika':2,'bithi':3}\n",
    "func(**func_arg)"
   ]
  },
  {
   "cell_type": "code",
   "execution_count": 77,
   "metadata": {},
   "outputs": [
    {
     "name": "stdout",
     "output_type": "stream",
     "text": [
      "{'a': 2, 'b': 3}\n",
      "2\n",
      "{'a': 4, 'b': 5}\n",
      "2\n"
     ]
    }
   ],
   "source": [
    "def fun(**m):\n",
    "    print(m)\n",
    "    fun1(**m)\n",
    "def fun1(**m):\n",
    "    print(len(m))\n",
    "fun(a=2,b=3)\n",
    "m_list={'a':4,'b':5}\n",
    "fun(**m_list)"
   ]
  },
  {
   "cell_type": "code",
   "execution_count": 93,
   "metadata": {},
   "outputs": [
    {
     "name": "stdout",
     "output_type": "stream",
     "text": [
      "{'tonni': 1}\n",
      "1\n"
     ]
    }
   ],
   "source": [
    "def love(**name):\n",
    "    print(name)\n",
    "    love2(**name)\n",
    "def love2(**name):\n",
    "    print(len(name))\n",
    "\n",
    "love(tonni=1)\n"
   ]
  },
  {
   "cell_type": "code",
   "execution_count": 94,
   "metadata": {},
   "outputs": [
    {
     "name": "stdout",
     "output_type": "stream",
     "text": [
      "ashik\n"
     ]
    }
   ],
   "source": [
    "love=lambda:\"ashik\"\n",
    "print(love())"
   ]
  },
  {
   "cell_type": "code",
   "execution_count": 96,
   "metadata": {},
   "outputs": [
    {
     "name": "stdout",
     "output_type": "stream",
     "text": [
      "ashik & Tonni\n"
     ]
    }
   ],
   "source": [
    "love=lambda:\"ashik & Tonni\"\n",
    "print(love())"
   ]
  },
  {
   "cell_type": "code",
   "execution_count": 97,
   "metadata": {},
   "outputs": [
    {
     "data": {
      "text/plain": [
       "'TONNI'"
      ]
     },
     "execution_count": 97,
     "metadata": {},
     "output_type": "execute_result"
    }
   ],
   "source": [
    "love_upper=lambda s:s.strip().upper()\n",
    "love_upper(\"tonni\")"
   ]
  },
  {
   "cell_type": "code",
   "execution_count": 99,
   "metadata": {},
   "outputs": [
    {
     "data": {
      "text/plain": [
       "'tonni'"
      ]
     },
     "execution_count": 99,
     "metadata": {},
     "output_type": "execute_result"
    }
   ],
   "source": [
    "love=lambda s:s.strip().lower()\n",
    "love('TONNI')"
   ]
  },
  {
   "cell_type": "code",
   "execution_count": 100,
   "metadata": {},
   "outputs": [
    {
     "name": "stdout",
     "output_type": "stream",
     "text": [
      "tonni ('mallika',) {'ashik': 'jery'}\n"
     ]
    }
   ],
   "source": [
    "love=lambda s,*m,**p:print(s,m,p)\n",
    "love('tonni','mallika',ashik='jery')"
   ]
  },
  {
   "cell_type": "code",
   "execution_count": 101,
   "metadata": {},
   "outputs": [
    {
     "name": "stdout",
     "output_type": "stream",
     "text": [
      "banana ('orange',) {'vitamins': 'apple'}\n"
     ]
    }
   ],
   "source": [
    "fruits=lambda x,*y,**z:print(x,y,z)\n",
    "fruits('banana','orange',vitamins='apple')"
   ]
  },
  {
   "cell_type": "code",
   "execution_count": 110,
   "metadata": {},
   "outputs": [
    {
     "data": {
      "text/plain": [
       "['ashik', '   Mallika', '  TONNI']"
      ]
     },
     "execution_count": 110,
     "metadata": {},
     "output_type": "execute_result"
    }
   ],
   "source": [
    "sorted([\"ashik\",\"  TONNI\",\"   Mallika\"],key=lambda s:s.strip().upper())"
   ]
  },
  {
   "cell_type": "code",
   "execution_count": 111,
   "metadata": {},
   "outputs": [
    {
     "data": {
      "text/plain": [
       "[' ASHIK', '  Mallika', 'tonni  ']"
      ]
     },
     "execution_count": 111,
     "metadata": {},
     "output_type": "execute_result"
    }
   ],
   "source": [
    "sorted([\" ASHIK\",\"tonni  \",\"  Mallika\"],key=lambda d:d.strip())"
   ]
  },
  {
   "cell_type": "code",
   "execution_count": 112,
   "metadata": {},
   "outputs": [
    {
     "data": {
      "text/plain": [
       "['Apple', 'ORANGE', 'banana']"
      ]
     },
     "execution_count": 112,
     "metadata": {},
     "output_type": "execute_result"
    }
   ],
   "source": [
    "sorted([\"banana\",\"ORANGE\",\"Apple\"],key=lambda w:w.strip())"
   ]
  },
  {
   "cell_type": "code",
   "execution_count": 118,
   "metadata": {},
   "outputs": [
    {
     "data": {
      "text/plain": [
       "['ASHIK', 'ASHIK', 'ASHIK']"
      ]
     },
     "execution_count": 118,
     "metadata": {},
     "output_type": "execute_result"
    }
   ],
   "source": [
    "sorted(map(lambda s:s.strip().upper(),[\"Ashik\",\"ASHIK\",\"ashik\"]))"
   ]
  },
  {
   "cell_type": "code",
   "execution_count": 116,
   "metadata": {},
   "outputs": [
    {
     "data": {
      "text/plain": [
       "['ASHIK', 'Tonni', 'mallika']"
      ]
     },
     "execution_count": 116,
     "metadata": {},
     "output_type": "execute_result"
    }
   ],
   "source": [
    "sorted(map(lambda f:f.strip(),[\"mallika\",\"ASHIK\",\"Tonni\"]))"
   ]
  },
  {
   "cell_type": "code",
   "execution_count": 120,
   "metadata": {},
   "outputs": [
    {
     "data": {
      "text/plain": [
       "[-1, 2, 3, 4, 5]"
      ]
     },
     "execution_count": 120,
     "metadata": {},
     "output_type": "execute_result"
    }
   ],
   "source": [
    "my_list=[5,-1,3,4,2]\n",
    "sorted(my_list,key=lambda x:abs(x))"
   ]
  },
  {
   "cell_type": "code",
   "execution_count": 124,
   "metadata": {},
   "outputs": [
    {
     "data": {
      "text/plain": [
       "[5, 3, 4, 2]"
      ]
     },
     "execution_count": 124,
     "metadata": {},
     "output_type": "execute_result"
    }
   ],
   "source": [
    "list(filter( lambda x:x>0,my_list))"
   ]
  },
  {
   "cell_type": "code",
   "execution_count": 147,
   "metadata": {},
   "outputs": [
    {
     "name": "stdout",
     "output_type": "stream",
     "text": [
      "[5, 1, 3, 4, 2]\n"
     ]
    }
   ],
   "source": [
    "(list(map(lambda d:abs(d),my_list)))"
   ]
  },
  {
   "cell_type": "code",
   "execution_count": 133,
   "metadata": {},
   "outputs": [
    {
     "name": "stdout",
     "output_type": "stream",
     "text": [
      "tonni & mallika\n"
     ]
    }
   ],
   "source": [
    "def love(name):\n",
    "    print(name)\n",
    "don=lambda x=\"tonni & mallika\":love(x)\n",
    "don()\n"
   ]
  },
  {
   "cell_type": "code",
   "execution_count": 140,
   "metadata": {},
   "outputs": [
    {
     "name": "stdout",
     "output_type": "stream",
     "text": [
      " banana & orange  banana & orange  banana & orange  banana & orange \n"
     ]
    }
   ],
   "source": [
    "def fruits(name):\n",
    "    print(name+name)\n",
    "fog=lambda s=\" banana & orange \":fruits(s*2)\n",
    "fog()"
   ]
  },
  {
   "cell_type": "code",
   "execution_count": 135,
   "metadata": {},
   "outputs": [
    {
     "name": "stdout",
     "output_type": "stream",
     "text": [
      "6\n"
     ]
    }
   ],
   "source": [
    "def func(x):\n",
    "    return 2*x\n",
    "print(func(3))"
   ]
  },
  {
   "cell_type": "code",
   "execution_count": 136,
   "metadata": {},
   "outputs": [
    {
     "name": "stdout",
     "output_type": "stream",
     "text": [
      "10\n"
     ]
    }
   ],
   "source": [
    "func=lambda x:2*x\n",
    "print(func(5))"
   ]
  },
  {
   "cell_type": "code",
   "execution_count": 146,
   "metadata": {},
   "outputs": [
    {
     "name": "stdout",
     "output_type": "stream",
     "text": [
      "tonni & mallika tonni & mallika \n"
     ]
    }
   ],
   "source": [
    "def josh(x):\n",
    "    return(x*2)\n",
    "doc=lambda s=\"tonni & mallika \":josh(s)\n",
    "print(doc())"
   ]
  },
  {
   "cell_type": "code",
   "execution_count": 155,
   "metadata": {},
   "outputs": [
    {
     "name": "stdout",
     "output_type": "stream",
     "text": [
      "ashik & tonni \n"
     ]
    }
   ],
   "source": [
    "doc=lambda :\"ashik & tonni \"\n",
    "print(doc())"
   ]
  },
  {
   "cell_type": "code",
   "execution_count": 158,
   "metadata": {},
   "outputs": [
    {
     "data": {
      "text/plain": [
       "'mallika'"
      ]
     },
     "execution_count": 158,
     "metadata": {},
     "output_type": "execute_result"
    }
   ],
   "source": [
    "def love(name=\"single\"):\n",
    "    return name\n",
    "love(\"mallika\")"
   ]
  },
  {
   "cell_type": "code",
   "execution_count": 2,
   "metadata": {},
   "outputs": [
    {
     "name": "stdout",
     "output_type": "stream",
     "text": [
      "Enter any number: 56\n",
      "56\n"
     ]
    }
   ],
   "source": [
    "a=input(\"Enter any number: \")\n",
    "print(a)"
   ]
  },
  {
   "cell_type": "code",
   "execution_count": 6,
   "metadata": {},
   "outputs": [
    {
     "data": {
      "text/plain": [
       "[4, 5, 7]"
      ]
     },
     "execution_count": 6,
     "metadata": {},
     "output_type": "execute_result"
    }
   ],
   "source": [
    "def append(i,listed=[]):\n",
    "    listed.append(i)\n",
    "    return listed\n",
    "append(4)\n",
    "append(5)\n",
    "append(7)"
   ]
  },
  {
   "cell_type": "code",
   "execution_count": 7,
   "metadata": {},
   "outputs": [
    {
     "data": {
      "text/plain": [
       "[1, 8, 3]"
      ]
     },
     "execution_count": 7,
     "metadata": {},
     "output_type": "execute_result"
    }
   ],
   "source": [
    "def dog(x):\n",
    "    x[1]=8\n",
    "    x=[2,5,7]\n",
    "y=[1,2,3]\n",
    "dog(y)\n",
    "y"
   ]
  },
  {
   "cell_type": "code",
   "execution_count": 16,
   "metadata": {},
   "outputs": [
    {
     "name": "stdout",
     "output_type": "stream",
     "text": [
      "[1, 0, 2]\n",
      "[0, 1, 2, 3, 4]\n"
     ]
    }
   ],
   "source": [
    "x=[1,0,2]\n",
    "y=x\n",
    "print(y)\n",
    "x.append(3)\n",
    "x\n",
    "z=x+[4]\n",
    "z\n",
    "z=sorted(z)\n",
    "print(z)"
   ]
  },
  {
   "cell_type": "code",
   "execution_count": 19,
   "metadata": {},
   "outputs": [
    {
     "name": "stdout",
     "output_type": "stream",
     "text": [
      "tonni mallika\n"
     ]
    }
   ],
   "source": [
    "def love():\n",
    "    return \"tonni\"\n",
    "print(love()+\" mallika\")"
   ]
  },
  {
   "cell_type": "code",
   "execution_count": 22,
   "metadata": {},
   "outputs": [
    {
     "data": {
      "text/plain": [
       "'mallika'"
      ]
     },
     "execution_count": 22,
     "metadata": {},
     "output_type": "execute_result"
    }
   ],
   "source": [
    "def love():\n",
    "    return \"tonni\",\"mallika\"\n",
    "t,m=love()\n",
    "m"
   ]
  },
  {
   "cell_type": "code",
   "execution_count": 36,
   "metadata": {},
   "outputs": [
    {
     "data": {
      "text/plain": [
       "14"
      ]
     },
     "execution_count": 36,
     "metadata": {},
     "output_type": "execute_result"
    }
   ],
   "source": [
    "def love(x):\n",
    "    def prem(y):\n",
    "        return y+x\n",
    "    return prem\n",
    "k=love(5)\n",
    "k(9)"
   ]
  },
  {
   "cell_type": "code",
   "execution_count": 37,
   "metadata": {},
   "outputs": [
    {
     "name": "stdout",
     "output_type": "stream",
     "text": [
      "19\n"
     ]
    }
   ],
   "source": [
    "def love(x):\n",
    "    def prem(y):\n",
    "        def pirit(z):\n",
    "            return x+y+z\n",
    "        return pirit\n",
    "    return prem\n",
    "w=love(5)\n",
    "t=w(9)\n",
    "q=t(5)\n",
    "print(q)"
   ]
  },
  {
   "cell_type": "code",
   "execution_count": 39,
   "metadata": {},
   "outputs": [
    {
     "data": {
      "text/plain": [
       "8"
      ]
     },
     "execution_count": 39,
     "metadata": {},
     "output_type": "execute_result"
    }
   ],
   "source": [
    "def love(x):\n",
    "    def prem(y):\n",
    "        nonlocal x\n",
    "        x=x+y\n",
    "        return x\n",
    "    return prem\n",
    "j=love(1)\n",
    "j(7)"
   ]
  },
  {
   "cell_type": "code",
   "execution_count": 46,
   "metadata": {},
   "outputs": [
    {
     "name": "stdout",
     "output_type": "stream",
     "text": [
      "1\n",
      "1\n",
      "2\n",
      "3\n",
      "5\n",
      "8\n",
      "13\n",
      "21\n",
      "34\n",
      "55\n"
     ]
    }
   ],
   "source": [
    "def fibonacci(n):\n",
    "    def step(a,b):\n",
    "        return b,a+b\n",
    "    a,b=0,1\n",
    "    for i in range(n):\n",
    "        a,b=step(a,b)\n",
    "        print(a)\n",
    "m=fibonacci(10)"
   ]
  },
  {
   "cell_type": "code",
   "execution_count": 49,
   "metadata": {},
   "outputs": [
    {
     "name": "stdout",
     "output_type": "stream",
     "text": [
      "i recursed 2960 times\n"
     ]
    }
   ],
   "source": [
    "def love(m):\n",
    "    try:\n",
    "        love(m+1)\n",
    "    except RuntimeError as RE:\n",
    "        print('i recursed {} times'.format(m))\n",
    "love(0)"
   ]
  },
  {
   "cell_type": "code",
   "execution_count": 51,
   "metadata": {},
   "outputs": [
    {
     "name": "stdout",
     "output_type": "stream",
     "text": [
      "120\n"
     ]
    }
   ],
   "source": [
    "lambdafactorial=lambda s:1 if s==0 else s*lambdafactorial(s-1)\n",
    "print(lambdafactorial(5))"
   ]
  },
  {
   "cell_type": "code",
   "execution_count": 52,
   "metadata": {},
   "outputs": [
    {
     "name": "stdout",
     "output_type": "stream",
     "text": [
      "120\n"
     ]
    }
   ],
   "source": [
    "def factorial(n):\n",
    "    if n==0:\n",
    "        return 1\n",
    "    else:\n",
    "        return n*factorial(n-1)\n",
    "print(factorial(5))\n",
    "            "
   ]
  },
  {
   "cell_type": "code",
   "execution_count": 54,
   "metadata": {},
   "outputs": [
    {
     "name": "stdout",
     "output_type": "stream",
     "text": [
      "mallika 100 8\n"
     ]
    }
   ],
   "source": [
    "def fun(val,cal,mal):\n",
    "    return '{0} {1} {2}'.format(val,mal,cal)\n",
    "print(fun('mallika',8,100))"
   ]
  },
  {
   "cell_type": "code",
   "execution_count": 1,
   "metadata": {},
   "outputs": [
    {
     "name": "stdout",
     "output_type": "stream",
     "text": [
      "tonni mallika ashik\n"
     ]
    }
   ],
   "source": [
    "def love(val,cal,mal):\n",
    "    return '{0} {1} {2}'.format(val,cal,mal)\n",
    "print(love('tonni','mallika','ashik'))"
   ]
  },
  {
   "cell_type": "code",
   "execution_count": 12,
   "metadata": {},
   "outputs": [
    {
     "name": "stdout",
     "output_type": "stream",
     "text": [
      "ashik\n",
      "tonni\n",
      "mallika\n"
     ]
    }
   ],
   "source": [
    "def love(name):\n",
    "    for e in name:\n",
    "        print(e)\n",
    "love(['ashik','tonni','mallika'])"
   ]
  },
  {
   "cell_type": "code",
   "execution_count": 6,
   "metadata": {},
   "outputs": [
    {
     "name": "stdout",
     "output_type": "stream",
     "text": [
      "tonni is my love\n",
      "her tittle is farjana ferdous\n",
      "tonni is my love\n",
      "mallika\n",
      "tonni is my love\n",
      "khan\n"
     ]
    }
   ],
   "source": [
    "class love():\n",
    "    def name(self):\n",
    "        print(\"tonni is my love\")\n",
    "    def tittle(self):\n",
    "        print(\"her tittle is farjana ferdous\")\n",
    "class hate(love):\n",
    "    def tittle(self):\n",
    "        print(\"mallika\")\n",
    "class sex(love):\n",
    "    def tittle(self):\n",
    "        print(\"khan\")\n",
    "        \n",
    "l=love()\n",
    "h=hate()\n",
    "s=sex()\n",
    "\n",
    "l.name()\n",
    "l.tittle()\n",
    "\n",
    "h.name()\n",
    "h.tittle()\n",
    "\n",
    "s.name()\n",
    "s.tittle()"
   ]
  },
  {
   "cell_type": "code",
   "execution_count": 18,
   "metadata": {},
   "outputs": [
    {
     "name": "stdout",
     "output_type": "stream",
     "text": [
      "English\n",
      "English\n",
      "Autoa\n",
      "Developed\n",
      "Bangla\n",
      "Dhaka\n",
      "Developing\n"
     ]
    }
   ],
   "source": [
    "class Canada():\n",
    "    def language(self):\n",
    "        print(\"English\")\n",
    "    def capital(self):\n",
    "        print(\"Autoa\")\n",
    "    def type(self):\n",
    "        print(\"Developed\")\n",
    "class Bangladesh():\n",
    "    def language(self):\n",
    "        print(\"Bangla\")\n",
    "    def capital(self):\n",
    "        print(\"Dhaka\")\n",
    "    def type(self):\n",
    "        print(\"Developing\")\n",
    "def func(M):\n",
    "    M.language()\n",
    "    M.capital()\n",
    "    M.type()\n",
    "\n",
    "    \n",
    "func(Canada())\n",
    "func(Bangladesh())\n",
    "\n",
    "        "
   ]
  },
  {
   "cell_type": "code",
   "execution_count": 23,
   "metadata": {},
   "outputs": [
    {
     "name": "stdout",
     "output_type": "stream",
     "text": [
      "2020-04-08 21:49:40.386563\n",
      "datetime.datetime(2020, 4, 8, 21, 49, 40, 386563)\n"
     ]
    }
   ],
   "source": [
    "import datetime\n",
    "today=datetime.datetime.now()\n",
    "print(str(today))\n",
    "print (repr(today))"
   ]
  },
  {
   "cell_type": "code",
   "execution_count": 25,
   "metadata": {},
   "outputs": [
    {
     "name": "stdout",
     "output_type": "stream",
     "text": [
      "9\n"
     ]
    }
   ],
   "source": [
    "x=lambda p:p+5\n",
    "print(x(4))"
   ]
  },
  {
   "cell_type": "code",
   "execution_count": 7,
   "metadata": {},
   "outputs": [
    {
     "name": "stdout",
     "output_type": "stream",
     "text": [
      "ashik\n"
     ]
    }
   ],
   "source": [
    "def outer(text):\n",
    "    t=text\n",
    "    def inner():\n",
    "        print(t)\n",
    "    inner()\n",
    "if __name__==\"__main__\":\n",
    "    outer(\"ashik\")"
   ]
  },
  {
   "cell_type": "code",
   "execution_count": 12,
   "metadata": {},
   "outputs": [
    {
     "name": "stdout",
     "output_type": "stream",
     "text": [
      "roma hasan khan\n"
     ]
    }
   ],
   "source": [
    "def love(name):\n",
    "    n=name\n",
    "    def you():\n",
    "        print(n)\n",
    "    return you()\n",
    "if __name__==\"__main__\":\n",
    "    love(\"roma hasan khan\")\n",
    "    "
   ]
  },
  {
   "cell_type": "code",
   "execution_count": 1,
   "metadata": {},
   "outputs": [
    {
     "name": "stdout",
     "output_type": "stream",
     "text": [
      "hey!, roma how are you?\n"
     ]
    }
   ],
   "source": [
    "# Decorators uses: rule-1\n",
    "\n",
    "def ashik(str):\n",
    "    def roma():\n",
    "        return \"hey!, \"\n",
    "    return roma() + str\n",
    "def name(m):\n",
    "    return m\n",
    "print(ashik(name(\"roma how are you?\")))"
   ]
  },
  {
   "cell_type": "code",
   "execution_count": 4,
   "metadata": {},
   "outputs": [
    {
     "name": "stdout",
     "output_type": "stream",
     "text": [
      "i am the man\n"
     ]
    }
   ],
   "source": [
    "#decorators: rule-2\n",
    "\n",
    "def man(m):\n",
    "    def woman():\n",
    "        return \"i am the \"\n",
    "    return woman() + m\n",
    "\n",
    "print(man(\"man\"))"
   ]
  },
  {
   "cell_type": "code",
   "execution_count": 11,
   "metadata": {},
   "outputs": [
    {
     "name": "stdout",
     "output_type": "stream",
     "text": [
      "how are you? ashik\n"
     ]
    }
   ],
   "source": [
    "# the real decorators:\n",
    "\n",
    "def ashik(ash):\n",
    "    def roma(rom):\n",
    "        return \"how are you? \" + ash(rom)\n",
    "    return roma  #in decorators {roma()} is no need to use.\n",
    "@ashik\n",
    "def name(rom):\n",
    "    return rom\n",
    "print(name(\"ashik\"))"
   ]
  },
  {
   "cell_type": "code",
   "execution_count": 16,
   "metadata": {},
   "outputs": [
    {
     "name": "stdout",
     "output_type": "stream",
     "text": [
      "13\n",
      "8\n"
     ]
    }
   ],
   "source": [
    "def add(A):\n",
    "    A.x=8\n",
    "    return A\n",
    "\n",
    "@add\n",
    "def adding(p,q):\n",
    "    return p+q\n",
    "\n",
    "print(adding(4,9))\n",
    "\n",
    "print(adding.x)"
   ]
  },
  {
   "cell_type": "code",
   "execution_count": 17,
   "metadata": {},
   "outputs": [
    {
     "name": "stdout",
     "output_type": "stream",
     "text": [
      "hello! before\n",
      "hello! middle\n",
      "hello! after\n"
     ]
    }
   ],
   "source": [
    "\n",
    "def name(N):\n",
    "    def ashik():\n",
    "        print(\"hello! before\")\n",
    "        N()                   #the function execute middle of the function\n",
    "        print(\"hello! after\")\n",
    "    return ashik\n",
    "\n",
    "def using():\n",
    "    print(\"hello! middle\")\n",
    "\n",
    "using=name(using) #equals to @name.....\n",
    "\n",
    "using()\n",
    "    \n",
    "    "
   ]
  },
  {
   "cell_type": "code",
   "execution_count": 29,
   "metadata": {},
   "outputs": [
    {
     "name": "stdout",
     "output_type": "stream",
     "text": [
      "first poppy\n",
      "inside the first and second\n",
      "second poppy\n"
     ]
    }
   ],
   "source": [
    "def name_dog(dog):\n",
    "    def poppy():\n",
    "        print(\"first poppy\")\n",
    "        dog()                  #execute middle of the function\n",
    "        print(\"second poppy\")\n",
    "    return poppy\n",
    "@name_dog\n",
    "def using_dog():\n",
    "    print(\"inside the first and second\")\n",
    "    \n",
    "using_dog()\n",
    "        "
   ]
  },
  {
   "cell_type": "code",
   "execution_count": 25,
   "metadata": {},
   "outputs": [
    {
     "name": "stdout",
     "output_type": "stream",
     "text": [
      "120\n",
      "Total time taken in:  factorial 5.0008790493011475\n"
     ]
    }
   ],
   "source": [
    "import time\n",
    "import math\n",
    "def calc_time(C):\n",
    "    def first(*M,**N):\n",
    "        begin=time.time()\n",
    "        C(*M,**N)\n",
    "        end=time.time()\n",
    "        print(\"Total time taken in: \", C.__name__,end - begin)\n",
    "    return first\n",
    "@calc_time\n",
    "def factorial(num):\n",
    "    time.sleep(5)\n",
    "    print(math.factorial(num))\n",
    "factorial(5)"
   ]
  },
  {
   "cell_type": "code",
   "execution_count": 33,
   "metadata": {},
   "outputs": [
    {
     "name": "stdout",
     "output_type": "stream",
     "text": [
      "before\n",
      "inside the function\n",
      "after\n",
      "11\n"
     ]
    }
   ],
   "source": [
    "def decorate(dec):\n",
    "    def inner(*args,**arvs):\n",
    "        print(\"before\")\n",
    "        val=dec(*args,**arvs)\n",
    "        print(\"after\")\n",
    "        return val\n",
    "    return inner\n",
    "@decorate\n",
    "def summation(a,b):\n",
    "    print(\"inside the function\")\n",
    "    return a+b\n",
    "print(summation(5,6))\n"
   ]
  },
  {
   "cell_type": "code",
   "execution_count": 34,
   "metadata": {},
   "outputs": [
    {
     "name": "stdout",
     "output_type": "stream",
     "text": [
      "120\n"
     ]
    }
   ],
   "source": [
    "def factorial(num):\n",
    "    if num==1:\n",
    "        return 1\n",
    "    else:\n",
    "        return num*factorial(num-1)\n",
    "print(factorial(5))"
   ]
  },
  {
   "cell_type": "code",
   "execution_count": 40,
   "metadata": {},
   "outputs": [
    {
     "name": "stdout",
     "output_type": "stream",
     "text": [
      "5040\n"
     ]
    }
   ],
   "source": [
    "# use of memorize factorial\n",
    "def memorize_factorial(F):\n",
    "    memory={}\n",
    "    def inner(num):\n",
    "        if num not in memory:\n",
    "            memory[num]=F(num)\n",
    "        return memory[num]\n",
    "    return inner\n",
    "@memorize_factorial\n",
    "def use(num):\n",
    "    if num==1:\n",
    "        return 1\n",
    "    else:\n",
    "        return num*use(num-1)\n",
    "print(use(7))\n",
    "        "
   ]
  },
  {
   "cell_type": "code",
   "execution_count": 48,
   "metadata": {},
   "outputs": [
    {
     "name": "stdout",
     "output_type": "stream",
     "text": [
      "Help on class helper in module __main__:\n",
      "\n",
      "class helper(builtins.object)\n",
      " |  Methods defined here:\n",
      " |  \n",
      " |  print_help(self)\n",
      " |  \n",
      " |  ----------------------------------------------------------------------\n",
      " |  Data descriptors defined here:\n",
      " |  \n",
      " |  __dict__\n",
      " |      dictionary for instance variables (if defined)\n",
      " |  \n",
      " |  __weakref__\n",
      " |      list of weak references to the object (if defined)\n",
      "\n",
      "Help on function print_help in module __main__:\n",
      "\n",
      "print_help(self)\n",
      "\n"
     ]
    }
   ],
   "source": [
    "#use of help([object]) function\n",
    "class helper:\n",
    "         def print_help(self):\n",
    "            print(\"i am helper\")\n",
    "help(helper)\n",
    "help(helper.print_help)\n"
   ]
  },
  {
   "cell_type": "code",
   "execution_count": 49,
   "metadata": {},
   "outputs": [
    {
     "name": "stdout",
     "output_type": "stream",
     "text": [
      "<class 'numpy.ndarray'>\n"
     ]
    }
   ],
   "source": [
    "#import function\n",
    "np=__import__('numpy',globals(),locals(),[],0)\n",
    "a=np.array([2,3,4])\n",
    "print(type(a))"
   ]
  },
  {
   "cell_type": "code",
   "execution_count": 51,
   "metadata": {},
   "outputs": [],
   "source": [
    "np=__import__('numpy',globals(),locals(),['complex','array'],0)\n",
    "comp=np.complex\n",
    "arr=np.array"
   ]
  },
  {
   "cell_type": "code",
   "execution_count": 5,
   "metadata": {},
   "outputs": [
    {
     "name": "stdout",
     "output_type": "stream",
     "text": [
      "4\n"
     ]
    }
   ],
   "source": [
    "#linear search\n",
    "def search(arr,n,x):\n",
    "    for i in range(0,n):\n",
    "        if(arr[i]==x):\n",
    "            return i\n",
    "    return -1\n",
    "arr=[3,4,5,6,7]\n",
    "n=len(arr)\n",
    "x=7\n",
    "result=search(arr,n,x)\n",
    "print(result)"
   ]
  },
  {
   "cell_type": "code",
   "execution_count": 7,
   "metadata": {},
   "outputs": [
    {
     "name": "stdout",
     "output_type": "stream",
     "text": [
      "11\n",
      "12\n",
      "32\n",
      "64\n",
      "78\n"
     ]
    }
   ],
   "source": [
    "#selection sort\n",
    "import sys\n",
    "A=[64,32,11,78,12]\n",
    "for i in range(len(A)):\n",
    "    min_index=i\n",
    "    for j in range(i+1,len(A)):\n",
    "        if(A[min_index]>A[j]):\n",
    "            min_index=j\n",
    "    A[i],A[min_index]=A[min_index],A[i]\n",
    "\n",
    "for e in range(len(A)):\n",
    "    print(\"%d\"%A[e])"
   ]
  },
  {
   "cell_type": "code",
   "execution_count": 2,
   "metadata": {},
   "outputs": [
    {
     "name": "stdout",
     "output_type": "stream",
     "text": [
      "23\n",
      "21\n",
      "11\n",
      "34\n",
      "56\n"
     ]
    }
   ],
   "source": [
    "#insertion sort\n",
    "def insertion(arr):\n",
    "    for i in range(1,len(arr)):\n",
    "        key=arr[i]\n",
    "        j=i-1\n",
    "        while(j>=0 and key<arr[i]):\n",
    "            arr[j+1]=arr[j]\n",
    "            j-=1\n",
    "        arr[j+1]=key\n",
    "arr=[23,21,11,34,56]\n",
    "insertion(arr)\n",
    "for e in range(len(arr)):\n",
    "    print(\"%d\"%arr[e])"
   ]
  },
  {
   "cell_type": "code",
   "execution_count": 3,
   "metadata": {},
   "outputs": [
    {
     "data": {
      "text/plain": [
       "False"
      ]
     },
     "execution_count": 3,
     "metadata": {},
     "output_type": "execute_result"
    }
   ],
   "source": [
    "x={1,2,3}\n",
    "y={2,3,4}\n",
    "x.issubset(y)"
   ]
  },
  {
   "cell_type": "code",
   "execution_count": 4,
   "metadata": {},
   "outputs": [
    {
     "data": {
      "text/plain": [
       "{1, 4}"
      ]
     },
     "execution_count": 4,
     "metadata": {},
     "output_type": "execute_result"
    }
   ],
   "source": [
    "x.symmetric_difference(y)"
   ]
  },
  {
   "cell_type": "code",
   "execution_count": 5,
   "metadata": {},
   "outputs": [
    {
     "data": {
      "text/plain": [
       "[1, 25, 25]"
      ]
     },
     "execution_count": 5,
     "metadata": {},
     "output_type": "execute_result"
    }
   ],
   "source": [
    "x=[24,25,25]\n",
    "y=x\n",
    "y[0]=1\n",
    "x"
   ]
  },
  {
   "cell_type": "code",
   "execution_count": 1,
   "metadata": {},
   "outputs": [
    {
     "name": "stdout",
     "output_type": "stream",
     "text": [
      "{'tom': 32, 'pol': 42, 'jery': 52}\n"
     ]
    }
   ],
   "source": [
    "name={'tom':32,'pol':42,'jery':52}\n",
    "print(name)"
   ]
  },
  {
   "cell_type": "code",
   "execution_count": 13,
   "metadata": {},
   "outputs": [
    {
     "name": "stdout",
     "output_type": "stream",
     "text": [
      "tom 32\n",
      "pol 42\n",
      "jery 52\n"
     ]
    }
   ],
   "source": [
    "name.keys()\n",
    "for e in sorted(name.keys(),reverse=True):\n",
    "    print(e,name[e])"
   ]
  },
  {
   "cell_type": "code",
   "execution_count": 10,
   "metadata": {},
   "outputs": [
    {
     "name": "stdout",
     "output_type": "stream",
     "text": [
      "tom 32\n",
      "pol 42\n",
      "jery 52\n"
     ]
    }
   ],
   "source": [
    "for i in name:\n",
    "    print(i,name[i])"
   ]
  },
  {
   "cell_type": "code",
   "execution_count": 15,
   "metadata": {},
   "outputs": [
    {
     "name": "stdout",
     "output_type": "stream",
     "text": [
      "jery\n",
      "pol\n",
      "jery\n"
     ]
    }
   ],
   "source": [
    "for e in name:\n",
    "    if(name[e]==42):\n",
    "        print('pol')\n",
    "    else:\n",
    "        print('jery')"
   ]
  },
  {
   "cell_type": "code",
   "execution_count": 19,
   "metadata": {},
   "outputs": [
    {
     "name": "stdout",
     "output_type": "stream",
     "text": [
      "[0, 1, 4, 9, 16, 25, 36, 49, 64, 81]\n"
     ]
    }
   ],
   "source": [
    "number=range(10)\n",
    "square=[]\n",
    "for i in number:\n",
    "    sq=i**2\n",
    "    square.append(sq)\n",
    "print(square)"
   ]
  },
  {
   "cell_type": "code",
   "execution_count": 23,
   "metadata": {},
   "outputs": [
    {
     "data": {
      "text/plain": [
       "[0, 1, 4, 9, 16]"
      ]
     },
     "execution_count": 23,
     "metadata": {},
     "output_type": "execute_result"
    }
   ],
   "source": [
    "[r**2 for r in range(5)]"
   ]
  },
  {
   "cell_type": "code",
   "execution_count": 24,
   "metadata": {},
   "outputs": [
    {
     "data": {
      "text/plain": [
       "(35, 5)"
      ]
     },
     "execution_count": 24,
     "metadata": {},
     "output_type": "execute_result"
    }
   ],
   "source": [
    "def add_sub(x,y):\n",
    "    add=x+y\n",
    "    sub=x-y\n",
    "    return(add,sub)\n",
    "add_sub(20,15)"
   ]
  },
  {
   "cell_type": "code",
   "execution_count": 2,
   "metadata": {},
   "outputs": [
    {
     "name": "stdout",
     "output_type": "stream",
     "text": [
      "[2, 3]\n"
     ]
    }
   ],
   "source": [
    "def intersec(s1,s2):\n",
    "    res=[]\n",
    "    for x in s1:\n",
    "        if x in s2:\n",
    "            res.append(x)\n",
    "    return res\n",
    "print(intersec([1,2,3],[2,3,4]))\n"
   ]
  },
  {
   "cell_type": "code",
   "execution_count": 3,
   "metadata": {},
   "outputs": [
    {
     "data": {
      "text/plain": [
       "4"
      ]
     },
     "execution_count": 3,
     "metadata": {},
     "output_type": "execute_result"
    }
   ],
   "source": [
    "import random\n",
    "random.choice([2,3,4,5])"
   ]
  },
  {
   "cell_type": "code",
   "execution_count": 5,
   "metadata": {},
   "outputs": [
    {
     "data": {
      "text/plain": [
       "'bb8ve'"
      ]
     },
     "execution_count": 5,
     "metadata": {},
     "output_type": "execute_result"
    }
   ],
   "source": [
    "def password(length):\n",
    "    pw=str()\n",
    "    character=\"abcdefghtjklmnopqrstuvwxyz\"+\"1234567890\"\n",
    "    for e in range(length):\n",
    "        pw=pw+random.choice(character)\n",
    "    return pw\n",
    "password(5)\n"
   ]
  },
  {
   "cell_type": "code",
   "execution_count": 8,
   "metadata": {},
   "outputs": [
    {
     "data": {
      "text/plain": [
       "'rr5t9ig4d3'"
      ]
     },
     "execution_count": 8,
     "metadata": {},
     "output_type": "execute_result"
    }
   ],
   "source": [
    "def password(length):\n",
    "    pw=str()\n",
    "    char=\"asghfdkfdirtrgn\"+\"13246354909\"\n",
    "    for e in range(length):\n",
    "        pw=pw+random.choice(char)\n",
    "    return pw\n",
    "password(10)"
   ]
  },
  {
   "cell_type": "code",
   "execution_count": null,
   "metadata": {},
   "outputs": [],
   "source": []
  }
 ],
 "metadata": {
  "celltoolbar": "Slideshow",
  "kernelspec": {
   "display_name": "Python 3",
   "language": "python",
   "name": "python3"
  },
  "language_info": {
   "codemirror_mode": {
    "name": "ipython",
    "version": 3
   },
   "file_extension": ".py",
   "mimetype": "text/x-python",
   "name": "python",
   "nbconvert_exporter": "python",
   "pygments_lexer": "ipython3",
   "version": "3.7.4"
  }
 },
 "nbformat": 4,
 "nbformat_minor": 2
}
